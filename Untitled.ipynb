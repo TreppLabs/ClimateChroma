{
 "cells": [
  {
   "cell_type": "code",
   "execution_count": 1,
   "id": "e63d64cb-8034-4718-ae1f-e66dc52a3ca9",
   "metadata": {},
   "outputs": [
    {
     "ename": "NameError",
     "evalue": "name 'pd' is not defined",
     "output_type": "error",
     "traceback": [
      "\u001b[0;31m---------------------------------------------------------------------------\u001b[0m",
      "\u001b[0;31mNameError\u001b[0m                                 Traceback (most recent call last)",
      "Cell \u001b[0;32mIn[1], line 1\u001b[0m\n\u001b[0;32m----> 1\u001b[0m data \u001b[38;5;241m=\u001b[39m \u001b[43mpd\u001b[49m\u001b[38;5;241m.\u001b[39mread_csv(\u001b[38;5;124m\"\u001b[39m\u001b[38;5;124mdata/climate_data.csv\u001b[39m\u001b[38;5;124m\"\u001b[39m)\n",
      "\u001b[0;31mNameError\u001b[0m: name 'pd' is not defined"
     ]
    }
   ],
   "source": [
    "data = pd.read_csv(\"data/climate_data.csv\")"
   ]
  },
  {
   "cell_type": "code",
   "execution_count": 16,
   "id": "78261838-63e2-441f-b5f4-17566b2e810b",
   "metadata": {},
   "outputs": [],
   "source": [
    "import pandas as pd\n",
    "data = pd.read_csv(\"data/climate_data.csv\")"
   ]
  },
  {
   "cell_type": "code",
   "execution_count": 4,
   "id": "b188a9e7-26f7-4a60-aa81-021aaf4fb938",
   "metadata": {},
   "outputs": [
    {
     "name": "stdout",
     "output_type": "stream",
     "text": [
      "       STATION                           NAME  LATITUDE  LONGITUDE  ELEVATION  \\\n",
      "0  USW00023272  SAN FRANCISCO DOWNTOWN, CA US   37.7705  -122.4269       45.7   \n",
      "1  USW00023272  SAN FRANCISCO DOWNTOWN, CA US   37.7705  -122.4269       45.7   \n",
      "2  USW00023272  SAN FRANCISCO DOWNTOWN, CA US   37.7705  -122.4269       45.7   \n",
      "3  USW00023272  SAN FRANCISCO DOWNTOWN, CA US   37.7705  -122.4269       45.7   \n",
      "4  USW00023272  SAN FRANCISCO DOWNTOWN, CA US   37.7705  -122.4269       45.7   \n",
      "\n",
      "         DATE  TMAX  TMIN  \n",
      "0  1986-01-01  57.0  55.0  \n",
      "1  1986-01-02  58.0  54.0  \n",
      "2  1986-01-03  61.0  54.0  \n",
      "3  1986-01-04  62.0  54.0  \n",
      "4  1986-01-05  62.0  56.0  \n"
     ]
    }
   ],
   "source": [
    "print(data.head())"
   ]
  },
  {
   "cell_type": "code",
   "execution_count": 5,
   "id": "e04e71f7-4bbd-475e-8ab7-3ad7fad60d43",
   "metadata": {},
   "outputs": [
    {
     "name": "stdout",
     "output_type": "stream",
     "text": [
      "STATION         0\n",
      "NAME            0\n",
      "LATITUDE        0\n",
      "LONGITUDE       0\n",
      "ELEVATION       0\n",
      "DATE            0\n",
      "TMAX         5000\n",
      "TMIN         5000\n",
      "dtype: int64\n"
     ]
    }
   ],
   "source": [
    "# Check for missing values\n",
    "print(data.isnull().sum())"
   ]
  },
  {
   "cell_type": "code",
   "execution_count": 6,
   "id": "510c4f33-1725-4613-b506-9cb4fff46b37",
   "metadata": {},
   "outputs": [
    {
     "name": "stdout",
     "output_type": "stream",
     "text": [
      "Empty DataFrame\n",
      "Columns: [STATION, NAME, LATITUDE, LONGITUDE, ELEVATION, DATE, TMAX, TMIN]\n",
      "Index: []\n"
     ]
    }
   ],
   "source": [
    "\n",
    "# Check for invalid values (e.g., -9999)\n",
    "print(data[(data['TMAX'] == -9999) | (data['TMIN'] == -9999)])"
   ]
  },
  {
   "cell_type": "code",
   "execution_count": 7,
   "id": "a74c1db3-90a6-4570-a863-c2bbe0012abf",
   "metadata": {},
   "outputs": [
    {
     "name": "stdout",
     "output_type": "stream",
     "text": [
      "TMAX    26.009155\n",
      "TMIN    26.009155\n",
      "dtype: float64\n"
     ]
    }
   ],
   "source": [
    "# Percentage of missing values\n",
    "missing_percentage = data[['TMAX', 'TMIN']].isnull().mean() * 100\n",
    "print(missing_percentage)"
   ]
  },
  {
   "cell_type": "code",
   "execution_count": 12,
   "id": "4aa2cd42-d61d-4723-895f-4b7f5ec8bbb8",
   "metadata": {},
   "outputs": [
    {
     "name": "stdout",
     "output_type": "stream",
     "text": [
      "             DATE      STATION  TMAX  TMIN\n",
      "19214  2023-09-21  US1CASF0004   NaN   NaN\n",
      "19215  2023-09-22  US1CASF0004   NaN   NaN\n",
      "19216  2023-09-23  US1CASF0004   NaN   NaN\n",
      "19217  2023-09-24  US1CASF0004   NaN   NaN\n",
      "19218  2023-09-25  US1CASF0004   NaN   NaN\n",
      "19219  2023-09-26  US1CASF0004   NaN   NaN\n",
      "19220  2023-09-27  US1CASF0004   NaN   NaN\n",
      "19221  2023-09-28  US1CASF0004   NaN   NaN\n",
      "19222  2023-09-29  US1CASF0004   NaN   NaN\n",
      "19223  2023-09-30  US1CASF0004   NaN   NaN\n"
     ]
    }
   ],
   "source": [
    "# Check rows with missing TMAX or TMIN\n",
    "missing_data = data[data['TMAX'].isnull() | data['TMIN'].isnull()]\n",
    "print(missing_data[['DATE', 'STATION', 'TMAX', 'TMIN']].tail(10))"
   ]
  },
  {
   "cell_type": "raw",
   "id": "e49e1529-0c33-4a8b-87d2-05d845b02733",
   "metadata": {},
   "source": [
    "print(data.tail())\n"
   ]
  },
  {
   "cell_type": "code",
   "execution_count": 14,
   "id": "218361bc-94c0-407e-9289-be7ddabbf1b7",
   "metadata": {},
   "outputs": [
    {
     "name": "stdout",
     "output_type": "stream",
     "text": [
      "           STATION                         NAME   LATITUDE   LONGITUDE  \\\n",
      "19219  US1CASF0004  SAN FRANCISCO 1.1 SW, CA US  37.765001 -122.434753   \n",
      "19220  US1CASF0004  SAN FRANCISCO 1.1 SW, CA US  37.765001 -122.434753   \n",
      "19221  US1CASF0004  SAN FRANCISCO 1.1 SW, CA US  37.765001 -122.434753   \n",
      "19222  US1CASF0004  SAN FRANCISCO 1.1 SW, CA US  37.765001 -122.434753   \n",
      "19223  US1CASF0004  SAN FRANCISCO 1.1 SW, CA US  37.765001 -122.434753   \n",
      "\n",
      "       ELEVATION        DATE  TMAX  TMIN  \n",
      "19219       59.1  2023-09-26   NaN   NaN  \n",
      "19220       59.1  2023-09-27   NaN   NaN  \n",
      "19221       59.1  2023-09-28   NaN   NaN  \n",
      "19222       59.1  2023-09-29   NaN   NaN  \n",
      "19223       59.1  2023-09-30   NaN   NaN  \n"
     ]
    }
   ],
   "source": [
    "print(data.tail())"
   ]
  },
  {
   "cell_type": "code",
   "execution_count": 17,
   "id": "5551141f-512b-4a14-9be3-456bd8c5f9ac",
   "metadata": {},
   "outputs": [
    {
     "name": "stdout",
     "output_type": "stream",
     "text": [
      "       STATION                           NAME  LATITUDE  LONGITUDE  ELEVATION  \\\n",
      "0  USW00023272  SAN FRANCISCO DOWNTOWN, CA US   37.7705  -122.4269       45.7   \n",
      "1  USW00023272  SAN FRANCISCO DOWNTOWN, CA US   37.7705  -122.4269       45.7   \n",
      "2  USW00023272  SAN FRANCISCO DOWNTOWN, CA US   37.7705  -122.4269       45.7   \n",
      "3  USW00023272  SAN FRANCISCO DOWNTOWN, CA US   37.7705  -122.4269       45.7   \n",
      "4  USW00023272  SAN FRANCISCO DOWNTOWN, CA US   37.7705  -122.4269       45.7   \n",
      "\n",
      "         DATE  TMAX  TMIN  \n",
      "0  1986-01-01  57.0  55.0  \n",
      "1  1986-01-02  58.0  54.0  \n",
      "2  1986-01-03  61.0  54.0  \n",
      "3  1986-01-04  62.0  54.0  \n",
      "4  1986-01-05  62.0  56.0  \n"
     ]
    }
   ],
   "source": [
    "data = pd.read_csv(\"data/climate_data.csv\")\n",
    "print(data.head())"
   ]
  },
  {
   "cell_type": "code",
   "execution_count": 18,
   "id": "229bafd5-85d5-4da3-a8b9-7ca24384a0b1",
   "metadata": {},
   "outputs": [
    {
     "name": "stdout",
     "output_type": "stream",
     "text": [
      "['USW00023272']\n"
     ]
    }
   ],
   "source": [
    "print(data['STATION'].unique())  # Should show only one station"
   ]
  },
  {
   "cell_type": "code",
   "execution_count": 19,
   "id": "cc3c0f46-e33a-4802-a4e5-84c7163692af",
   "metadata": {},
   "outputs": [
    {
     "name": "stdout",
     "output_type": "stream",
     "text": [
      "STATION       0\n",
      "NAME          0\n",
      "LATITUDE      0\n",
      "LONGITUDE     0\n",
      "ELEVATION     0\n",
      "DATE          0\n",
      "TMAX         21\n",
      "TMIN         21\n",
      "dtype: int64\n"
     ]
    }
   ],
   "source": [
    "print(data.isnull().sum())      # Should show 0 missing values for TMAX and TMIN\n"
   ]
  },
  {
   "cell_type": "code",
   "execution_count": 20,
   "id": "bcbd40c6-5e7f-4b73-873a-d9075f05e0df",
   "metadata": {},
   "outputs": [],
   "source": [
    "data = data.dropna(subset=['TMAX', 'TMIN'])\n"
   ]
  },
  {
   "cell_type": "code",
   "execution_count": 21,
   "id": "e831704c-7943-4b4b-9b69-fb24fae0dd1b",
   "metadata": {},
   "outputs": [
    {
     "name": "stdout",
     "output_type": "stream",
     "text": [
      "STATION      0\n",
      "NAME         0\n",
      "LATITUDE     0\n",
      "LONGITUDE    0\n",
      "ELEVATION    0\n",
      "DATE         0\n",
      "TMAX         0\n",
      "TMIN         0\n",
      "dtype: int64\n"
     ]
    }
   ],
   "source": [
    "print(data.isnull().sum())      # Should show 0 missing values for TMAX and TMIN\n"
   ]
  },
  {
   "cell_type": "code",
   "execution_count": 22,
   "id": "592c1553-374a-49e4-aabe-7ee5f8ddfa9f",
   "metadata": {},
   "outputs": [],
   "source": [
    "# Convert temperatures to Celsius\n",
    "data['TMAX_C'] = (data['TMAX'] - 32) * 5 / 9\n",
    "data['TMIN_C'] = (data['TMIN'] - 32) * 5 / 9"
   ]
  },
  {
   "cell_type": "code",
   "execution_count": 23,
   "id": "ee36cca1-1fd9-4eb2-abce-72ff4aaeadfb",
   "metadata": {},
   "outputs": [
    {
     "name": "stdout",
     "output_type": "stream",
     "text": [
      "         DATE     TMAX_C     TMIN_C     TAVG_C  TRANGE_C\n",
      "0  1986-01-01  13.888889  12.777778  13.333333  1.111111\n",
      "1  1986-01-02  14.444444  12.222222  13.333333  2.222222\n",
      "2  1986-01-03  16.111111  12.222222  14.166667  3.888889\n",
      "3  1986-01-04  16.666667  12.222222  14.444444  4.444444\n",
      "4  1986-01-05  16.666667  13.333333  15.000000  3.333333\n",
      "             TMAX_C        TMIN_C        TAVG_C      TRANGE_C\n",
      "count  14222.000000  14222.000000  14222.000000  14222.000000\n",
      "mean      18.290676     10.847084     14.568880      7.443593\n",
      "std        4.277628      2.540045      3.130388      3.209759\n",
      "min        5.000000     -2.222222      1.388889      0.555556\n",
      "25%       15.555556      9.444444     12.500000      5.000000\n",
      "50%       17.777778     11.111111     14.444444      6.666667\n",
      "75%       20.555556     12.777778     16.388889      8.888889\n",
      "max       41.111111     23.888889     31.388889     25.000000\n"
     ]
    }
   ],
   "source": [
    "data['TAVG_C'] = (data['TMAX_C'] + data['TMIN_C']) / 2\n",
    "data['TRANGE_C'] = data['TMAX_C'] - data['TMIN_C']\n",
    "print(data[['DATE', 'TMAX_C', 'TMIN_C', 'TAVG_C', 'TRANGE_C']].head())\n",
    "print(data[['TMAX_C', 'TMIN_C', 'TAVG_C', 'TRANGE_C']].describe())\n"
   ]
  },
  {
   "cell_type": "code",
   "execution_count": 24,
   "id": "1fd9c6da-a892-4a49-9a46-2efd278b4fea",
   "metadata": {},
   "outputs": [
    {
     "name": "stdout",
     "output_type": "stream",
     "text": [
      "Writing example.py\n"
     ]
    }
   ],
   "source": [
    "%%writefile example.py\n",
    "print(\"This code will be saved to example.py\")"
   ]
  },
  {
   "cell_type": "code",
   "execution_count": 28,
   "id": "c2cfe991-89ed-4b09-80d8-688253166a7a",
   "metadata": {},
   "outputs": [
    {
     "name": "stdout",
     "output_type": "stream",
     "text": [
      "Writing src/process_climate_data.py\n"
     ]
    }
   ],
   "source": [
    "%%writefile src/process_climate_data.py\n",
    "import pandas as pd\n",
    "\n",
    "# Step 1: Load the data\n",
    "data = pd.read_csv(\"data/climate_data.csv\")\n",
    "\n",
    "# Step 2: Drop rows with missing TMAX or TMIN\n",
    "data = data.dropna(subset=[\"TMAX\", \"TMIN\"])\n",
    "\n",
    "# Step 3: Convert Fahrenheit to Celsius\n",
    "data[\"TMAX_C\"] = (data[\"TMAX\"] - 32) * 5 / 9\n",
    "data[\"TMIN_C\"] = (data[\"TMIN\"] - 32) * 5 / 9\n",
    "\n",
    "# Step 4: Add derived columns\n",
    "data[\"TAVG_C\"] = (data[\"TMAX_C\"] + data[\"TMIN_C\"]) / 2\n",
    "data[\"TRANGE_C\"] = data[\"TMAX_C\"] - data[\"TMIN_C\"]\n",
    "\n",
    "# Step 5: Save the processed dataset\n",
    "data.to_csv(\"data/processed_climate_data.csv\", index=False)\n"
   ]
  },
  {
   "cell_type": "code",
   "execution_count": null,
   "id": "74e5be2a-ef0c-488c-8fa4-1ba9887623a1",
   "metadata": {},
   "outputs": [],
   "source": []
  },
  {
   "cell_type": "code",
   "execution_count": 1,
   "id": "091d3b44-b052-4916-9869-c129b35c4174",
   "metadata": {},
   "outputs": [
    {
     "name": "stdout",
     "output_type": "stream",
     "text": [
      "       STATION                           NAME  LATITUDE  LONGITUDE  ELEVATION  \\\n",
      "0  USW00023272  SAN FRANCISCO DOWNTOWN, CA US   37.7705  -122.4269       45.7   \n",
      "1  USW00023272  SAN FRANCISCO DOWNTOWN, CA US   37.7705  -122.4269       45.7   \n",
      "2  USW00023272  SAN FRANCISCO DOWNTOWN, CA US   37.7705  -122.4269       45.7   \n",
      "3  USW00023272  SAN FRANCISCO DOWNTOWN, CA US   37.7705  -122.4269       45.7   \n",
      "4  USW00023272  SAN FRANCISCO DOWNTOWN, CA US   37.7705  -122.4269       45.7   \n",
      "\n",
      "         DATE  TMAX  TMIN     TMAX_C     TMIN_C     TAVG_C  TRANGE_C  \n",
      "0  1986-01-01  57.0  55.0  13.888889  12.777778  13.333333  1.111111  \n",
      "1  1986-01-02  58.0  54.0  14.444444  12.222222  13.333333  2.222222  \n",
      "2  1986-01-03  61.0  54.0  16.111111  12.222222  14.166667  3.888889  \n",
      "3  1986-01-04  62.0  54.0  16.666667  12.222222  14.444444  4.444444  \n",
      "4  1986-01-05  62.0  56.0  16.666667  13.333333  15.000000  3.333333  \n"
     ]
    }
   ],
   "source": [
    "# Import the function from the script (ensure it's in the same directory or update path)\n",
    "from src.process_data import process_climate_data\n",
    "\n",
    "# Call the function with the input and output file paths\n",
    "processed_data = process_climate_data('data/climate_data.csv', 'data/processed_climate_data.csv')\n",
    "\n",
    "# Display the processed data\n",
    "print(processed_data.head())\n",
    "\n"
   ]
  },
  {
   "cell_type": "code",
   "execution_count": 2,
   "id": "ef459232-ff5c-4c90-b86a-26ff010aef3f",
   "metadata": {},
   "outputs": [
    {
     "data": {
      "text/html": [
       "<div>\n",
       "<style scoped>\n",
       "    .dataframe tbody tr th:only-of-type {\n",
       "        vertical-align: middle;\n",
       "    }\n",
       "\n",
       "    .dataframe tbody tr th {\n",
       "        vertical-align: top;\n",
       "    }\n",
       "\n",
       "    .dataframe thead th {\n",
       "        text-align: right;\n",
       "    }\n",
       "</style>\n",
       "<table border=\"1\" class=\"dataframe\">\n",
       "  <thead>\n",
       "    <tr style=\"text-align: right;\">\n",
       "      <th></th>\n",
       "      <th>TMAX</th>\n",
       "      <th>TMIN</th>\n",
       "    </tr>\n",
       "  </thead>\n",
       "  <tbody>\n",
       "    <tr>\n",
       "      <th>count</th>\n",
       "      <td>14222.000000</td>\n",
       "      <td>14222.000000</td>\n",
       "    </tr>\n",
       "    <tr>\n",
       "      <th>mean</th>\n",
       "      <td>64.923218</td>\n",
       "      <td>51.524750</td>\n",
       "    </tr>\n",
       "    <tr>\n",
       "      <th>std</th>\n",
       "      <td>7.699731</td>\n",
       "      <td>4.572082</td>\n",
       "    </tr>\n",
       "    <tr>\n",
       "      <th>min</th>\n",
       "      <td>41.000000</td>\n",
       "      <td>28.000000</td>\n",
       "    </tr>\n",
       "    <tr>\n",
       "      <th>25%</th>\n",
       "      <td>60.000000</td>\n",
       "      <td>49.000000</td>\n",
       "    </tr>\n",
       "    <tr>\n",
       "      <th>50%</th>\n",
       "      <td>64.000000</td>\n",
       "      <td>52.000000</td>\n",
       "    </tr>\n",
       "    <tr>\n",
       "      <th>75%</th>\n",
       "      <td>69.000000</td>\n",
       "      <td>55.000000</td>\n",
       "    </tr>\n",
       "    <tr>\n",
       "      <th>max</th>\n",
       "      <td>106.000000</td>\n",
       "      <td>75.000000</td>\n",
       "    </tr>\n",
       "  </tbody>\n",
       "</table>\n",
       "</div>"
      ],
      "text/plain": [
       "               TMAX          TMIN\n",
       "count  14222.000000  14222.000000\n",
       "mean      64.923218     51.524750\n",
       "std        7.699731      4.572082\n",
       "min       41.000000     28.000000\n",
       "25%       60.000000     49.000000\n",
       "50%       64.000000     52.000000\n",
       "75%       69.000000     55.000000\n",
       "max      106.000000     75.000000"
      ]
     },
     "execution_count": 2,
     "metadata": {},
     "output_type": "execute_result"
    }
   ],
   "source": [
    "# Summary statistics for TMAX and TMIN\n",
    "processed_data[['TMAX', 'TMIN']].describe()"
   ]
  },
  {
   "cell_type": "code",
   "execution_count": 4,
   "id": "5979bd8d-9bdb-4946-ac38-463bf7916e2a",
   "metadata": {},
   "outputs": [
    {
     "name": "stdout",
     "output_type": "stream",
     "text": [
      "Collecting seaborn\n",
      "  Downloading seaborn-0.13.2-py3-none-any.whl.metadata (5.4 kB)\n",
      "Requirement already satisfied: numpy!=1.24.0,>=1.20 in ./venv/lib/python3.13/site-packages (from seaborn) (2.2.1)\n",
      "Requirement already satisfied: pandas>=1.2 in ./venv/lib/python3.13/site-packages (from seaborn) (2.2.3)\n",
      "Requirement already satisfied: matplotlib!=3.6.1,>=3.4 in ./venv/lib/python3.13/site-packages (from seaborn) (3.10.0)\n",
      "Requirement already satisfied: contourpy>=1.0.1 in ./venv/lib/python3.13/site-packages (from matplotlib!=3.6.1,>=3.4->seaborn) (1.3.1)\n",
      "Requirement already satisfied: cycler>=0.10 in ./venv/lib/python3.13/site-packages (from matplotlib!=3.6.1,>=3.4->seaborn) (0.12.1)\n",
      "Requirement already satisfied: fonttools>=4.22.0 in ./venv/lib/python3.13/site-packages (from matplotlib!=3.6.1,>=3.4->seaborn) (4.55.3)\n",
      "Requirement already satisfied: kiwisolver>=1.3.1 in ./venv/lib/python3.13/site-packages (from matplotlib!=3.6.1,>=3.4->seaborn) (1.4.8)\n",
      "Requirement already satisfied: packaging>=20.0 in ./venv/lib/python3.13/site-packages (from matplotlib!=3.6.1,>=3.4->seaborn) (24.2)\n",
      "Requirement already satisfied: pillow>=8 in ./venv/lib/python3.13/site-packages (from matplotlib!=3.6.1,>=3.4->seaborn) (11.1.0)\n",
      "Requirement already satisfied: pyparsing>=2.3.1 in ./venv/lib/python3.13/site-packages (from matplotlib!=3.6.1,>=3.4->seaborn) (3.2.1)\n",
      "Requirement already satisfied: python-dateutil>=2.7 in ./venv/lib/python3.13/site-packages (from matplotlib!=3.6.1,>=3.4->seaborn) (2.9.0.post0)\n",
      "Requirement already satisfied: pytz>=2020.1 in ./venv/lib/python3.13/site-packages (from pandas>=1.2->seaborn) (2024.2)\n",
      "Requirement already satisfied: tzdata>=2022.7 in ./venv/lib/python3.13/site-packages (from pandas>=1.2->seaborn) (2024.2)\n",
      "Requirement already satisfied: six>=1.5 in ./venv/lib/python3.13/site-packages (from python-dateutil>=2.7->matplotlib!=3.6.1,>=3.4->seaborn) (1.17.0)\n",
      "Downloading seaborn-0.13.2-py3-none-any.whl (294 kB)\n",
      "Installing collected packages: seaborn\n",
      "Successfully installed seaborn-0.13.2\n",
      "Note: you may need to restart the kernel to use updated packages.\n"
     ]
    }
   ],
   "source": [
    "pip install seaborn\n"
   ]
  },
  {
   "cell_type": "code",
   "execution_count": 5,
   "id": "d6bae996-d6cb-4938-a206-5681452f26f3",
   "metadata": {},
   "outputs": [
    {
     "data": {
      "image/png": "[encoded data removed]",
      "text/plain": [
       "<Figure size 640x480 with 1 Axes>"
      ]
     },
     "metadata": {},
     "output_type": "display_data"
    }
   ],
   "source": [
    "import matplotlib.pyplot as plt\n",
    "import seaborn as sns\n",
    "\n",
    "# Visualize missing values\n",
    "sns.heatmap(processed_data.isnull(), cbar=False, cmap='viridis')\n",
    "plt.title('Missing Data Heatmap')\n",
    "plt.show()\n",
    "\n"
   ]
  },
  {
   "cell_type": "code",
   "execution_count": 6,
   "id": "1f4b527a-951d-43e0-81ae-bb3c9b847e7e",
   "metadata": {},
   "outputs": [
    {
     "data": {
      "text/plain": [
       "STATION      0\n",
       "NAME         0\n",
       "LATITUDE     0\n",
       "LONGITUDE    0\n",
       "ELEVATION    0\n",
       "DATE         0\n",
       "TMAX         0\n",
       "TMIN         0\n",
       "TMAX_C       0\n",
       "TMIN_C       0\n",
       "TAVG_C       0\n",
       "TRANGE_C     0\n",
       "dtype: int64"
      ]
     },
     "execution_count": 6,
     "metadata": {},
     "output_type": "execute_result"
    }
   ],
   "source": [
    "processed_data.isnull().sum()\n"
   ]
  },
  {
   "cell_type": "code",
   "execution_count": null,
   "id": "2b6ee17b-6ca1-4a2a-8751-3e9bd9ba1e82",
   "metadata": {},
   "outputs": [],
   "source": []
  },
  {
   "cell_type": "code",
   "execution_count": 2,
   "id": "87448149-ed2c-4269-b1f7-f510c03d795c",
   "metadata": {},
   "outputs": [
    {
     "name": "stdout",
     "output_type": "stream",
     "text": [
      "       STATION                           NAME  LATITUDE  LONGITUDE  ELEVATION  \\\n",
      "0  USW00023272  SAN FRANCISCO DOWNTOWN, CA US   37.7705  -122.4269       45.7   \n",
      "1  USW00023272  SAN FRANCISCO DOWNTOWN, CA US   37.7705  -122.4269       45.7   \n",
      "2  USW00023272  SAN FRANCISCO DOWNTOWN, CA US   37.7705  -122.4269       45.7   \n",
      "3  USW00023272  SAN FRANCISCO DOWNTOWN, CA US   37.7705  -122.4269       45.7   \n",
      "4  USW00023272  SAN FRANCISCO DOWNTOWN, CA US   37.7705  -122.4269       45.7   \n",
      "\n",
      "         DATE  TMAX  TMIN     TMAX_C     TMIN_C     TAVG_C  TRANGE_C  \n",
      "0  1986-01-01  57.0  55.0  13.888889  12.777778  13.333333  1.111111  \n",
      "1  1986-01-02  58.0  54.0  14.444444  12.222222  13.333333  2.222222  \n",
      "2  1986-01-03  61.0  54.0  16.111111  12.222222  14.166667  3.888889  \n",
      "3  1986-01-04  62.0  54.0  16.666667  12.222222  14.444444  4.444444  \n",
      "4  1986-01-05  62.0  56.0  16.666667  13.333333  15.000000  3.333333  \n"
     ]
    }
   ],
   "source": [
    "# Import the function from the script (ensure it's in the same directory or update path)\n",
    "from src.process_data import process_climate_data\n",
    "\n",
    "# Call the function with the input and output file paths\n",
    "processed_data = process_climate_data('data/climate_data.csv', 'data/processed_climate_data.csv')\n",
    "\n",
    "# Display the processed data\n",
    "print(processed_data.head())\n"
   ]
  },
  {
   "cell_type": "code",
   "execution_count": 4,
   "id": "4f414183-cc93-450a-95d8-de06690e692e",
   "metadata": {},
   "outputs": [
    {
     "data": {
      "image/png": "[encoded data removed]",
      "text/plain": [
       "<Figure size 640x480 with 1 Axes>"
      ]
     },
     "metadata": {},
     "output_type": "display_data"
    }
   ],
   "source": [
    "import matplotlib.pyplot as plt\n",
    "import seaborn as sns\n",
    "\n",
    "# Visualize missing values\n",
    "sns.heatmap(processed_data.isnull(), cbar=False, cmap='viridis')\n",
    "plt.title('Missing Data Heatmap')\n",
    "plt.show()"
   ]
  },
  {
   "cell_type": "code",
   "execution_count": 6,
   "id": "d3770949-b220-4376-9010-0c9fcb8bd621",
   "metadata": {},
   "outputs": [
    {
     "name": "stdout",
     "output_type": "stream",
     "text": [
      "         DATE\n",
      "0  1986-01-01\n",
      "1  1986-01-02\n",
      "2  1986-01-03\n",
      "3  1986-01-04\n",
      "4  1986-01-05\n"
     ]
    }
   ],
   "source": [
    "print(processed_data[['DATE']].head())"
   ]
  },
  {
   "cell_type": "code",
   "execution_count": 9,
   "id": "6d875ca0-be52-47d7-bddb-c882e960e8ba",
   "metadata": {},
   "outputs": [],
   "source": [
    "import pandas as pd\n",
    "\n",
    "# Ensure DATE is in datetime format\n",
    "processed_data['DATE'] = pd.to_datetime(processed_data['DATE'])\n",
    "\n",
    "# Add a 'MONTH' column\n",
    "processed_data['MONTH'] = processed_data['DATE'].dt.month"
   ]
  },
  {
   "cell_type": "raw",
   "id": "bb21bf5a-bfad-4545-9125-f9f0dccbf12f",
   "metadata": {},
   "source": [
    "print(processed_data[['DATE']].head())"
   ]
  },
  {
   "cell_type": "code",
   "execution_count": null,
   "id": "8d6beab2-6063-4ddd-94c4-2696b0d56706",
   "metadata": {},
   "outputs": [],
   "source": [
    "\n"
   ]
  },
  {
   "cell_type": "code",
   "execution_count": 10,
   "id": "c8d1f39c-0239-4ce2-a9ce-5c54b1305b5f",
   "metadata": {},
   "outputs": [
    {
     "name": "stdout",
     "output_type": "stream",
     "text": [
      "        DATE\n",
      "0 1986-01-01\n",
      "1 1986-01-02\n",
      "2 1986-01-03\n",
      "3 1986-01-04\n",
      "4 1986-01-05\n"
     ]
    }
   ],
   "source": [
    "print(processed_data[['DATE']].head())"
   ]
  },
  {
   "cell_type": "code",
   "execution_count": 11,
   "id": "00e1bd51-f4d0-44d7-b980-bef8a086fc7a",
   "metadata": {},
   "outputs": [
    {
     "name": "stdout",
     "output_type": "stream",
     "text": [
      "            TMAX       TMIN\n",
      "MONTH                      \n",
      "1      58.580645  47.009098\n",
      "2      61.076225  48.054446\n",
      "3      62.731183  49.100910\n",
      "4      63.954701  49.976923\n",
      "5      64.971050  51.569892\n",
      "6      67.431507  53.340753\n",
      "7      67.458230  54.691481\n",
      "8      68.886683  55.933002\n",
      "9      70.703419  55.935043\n",
      "10     70.421757  54.657741\n",
      "11     64.350817  50.845228\n",
      "12     58.454094  47.039702\n"
     ]
    }
   ],
   "source": [
    "monthly_averages = processed_data.groupby('MONTH')[['TMAX', 'TMIN']].mean()\n",
    "\n",
    "# Display monthly averages\n",
    "print(monthly_averages)\n"
   ]
  },
  {
   "cell_type": "code",
   "execution_count": 12,
   "id": "b9ed1e13-e8fe-4608-915b-21324a34de11",
   "metadata": {},
   "outputs": [
    {
     "data": {
      "image/png": "[encoded data removed]",
      "text/plain": [
       "<Figure size 1000x600 with 1 Axes>"
      ]
     },
     "metadata": {},
     "output_type": "display_data"
    }
   ],
   "source": [
    "monthly_averages.plot(kind='bar', figsize=(10, 6), title='Monthly Average Temperatures')\n",
    "plt.ylabel('Temperature (°C)')\n",
    "plt.xlabel('Month')\n",
    "plt.xticks(ticks=range(12), labels=['Jan', 'Feb', 'Mar', 'Apr', 'May', 'Jun', \n",
    "                                    'Jul', 'Aug', 'Sep', 'Oct', 'Nov', 'Dec'], rotation=45)\n",
    "plt.grid(axis='y', linestyle='--', alpha=0.7)\n",
    "plt.show()"
   ]
  },
  {
   "cell_type": "code",
   "execution_count": null,
   "id": "63d9e251-7bbe-42d7-833c-e1a0f6e17173",
   "metadata": {},
   "outputs": [],
   "source": []
  }
 ],
 "metadata": {
  "kernelspec": {
   "display_name": "Python 3 (ipykernel)",
   "language": "python",
   "name": "python3"
  },
  "language_info": {
   "codemirror_mode": {
    "name": "ipython",
    "version": 3
   },
   "file_extension": ".py",
   "mimetype": "text/x-python",
   "name": "python",
   "nbconvert_exporter": "python",
   "pygments_lexer": "ipython3",
   "version": "3.13.0"
  }
 },
 "nbformat": 4,
 "nbformat_minor": 5
}
