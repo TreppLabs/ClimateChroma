{
 "cells": [
  {
   "cell_type": "code",
   "execution_count": 9,
   "id": "138b34f1-799c-4996-9d1c-0e4d64fb3ee1",
   "metadata": {},
   "outputs": [
    {
     "name": "stdout",
     "output_type": "stream",
     "text": [
      "NOAA_API_TOKEN in script: None\n",
      "The data_download module is wworking correctly!\n"
     ]
    }
   ],
   "source": [
    "# Add the 'src' directory to the Python path\n",
    "import sys\n",
    "sys.path.append('src')\n",
    "\n",
    "# Import the data_download module\n",
    "import data_download\n",
    "\n",
    "# Test the module\n",
    "print(data_download.test_download())\n"
   ]
  },
  {
   "cell_type": "code",
   "execution_count": null,
   "id": "c2d1854a-3d6b-4e2f-9ac5-7e67f9ae60d6",
   "metadata": {},
   "outputs": [],
   "source": []
  }
 ],
 "metadata": {
  "kernelspec": {
   "display_name": "Python 3 (ipykernel)",
   "language": "python",
   "name": "python3"
  },
  "language_info": {
   "codemirror_mode": {
    "name": "ipython",
    "version": 3
   },
   "file_extension": ".py",
   "mimetype": "text/x-python",
   "name": "python",
   "nbconvert_exporter": "python",
   "pygments_lexer": "ipython3",
   "version": "3.13.0"
  }
 },
 "nbformat": 4,
 "nbformat_minor": 5
}
