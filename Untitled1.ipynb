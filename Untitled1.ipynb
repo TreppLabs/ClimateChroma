{
 "cells": [
  {
   "cell_type": "code",
   "execution_count": 1,
   "id": "9391afd4-af12-4f8f-882c-4dc04859fd88",
   "metadata": {},
   "outputs": [
    {
     "ename": "NameError",
     "evalue": "name 'importlib' is not defined",
     "output_type": "error",
     "traceback": [
      "\u001b[0;31m---------------------------------------------------------------------------\u001b[0m",
      "\u001b[0;31mNameError\u001b[0m                                 Traceback (most recent call last)",
      "Cell \u001b[0;32mIn[1], line 1\u001b[0m\n\u001b[0;32m----> 1\u001b[0m \u001b[43mimportlib\u001b[49m\u001b[38;5;241m.\u001b[39mreload(data_download)\n",
      "\u001b[0;31mNameError\u001b[0m: name 'importlib' is not defined"
     ]
    }
   ],
   "source": [
    "importlib.reload(data_download)\n"
   ]
  },
  {
   "cell_type": "code",
   "execution_count": 2,
   "id": "44b31514-1a1b-4af7-82e0-42b8b6b34d3a",
   "metadata": {},
   "outputs": [
    {
     "name": "stdout",
     "output_type": "stream",
     "text": [
      "WxygRFAipYVLPMjUNAEwFWsvavdjkDVb\n"
     ]
    }
   ],
   "source": [
    "import os\n",
    "print(os.getenv(\"NOAA_API_TOKEN\"))"
   ]
  },
  {
   "cell_type": "code",
   "execution_count": 4,
   "id": "5b4c443f-0de9-4f21-a1f3-80b3e40d81b5",
   "metadata": {},
   "outputs": [],
   "source": [
    "from src.data_download import hello_noaa\n"
   ]
  },
  {
   "cell_type": "code",
   "execution_count": null,
   "id": "65ff4e41-db58-448f-a328-8db27fa48d76",
   "metadata": {},
   "outputs": [],
   "source": [
    "from src.data_download import hello_noaa\n",
    "# Call the function to test\n",
    "data = hello_noaa()\n",
    "print(data)  # This will print the metadata or any response from NOAA"
   ]
  },
  {
   "cell_type": "code",
   "execution_count": 6,
   "id": "fd4ae15f-b7f1-4b15-b64d-48aa4c54a08c",
   "metadata": {},
   "outputs": [
    {
     "data": {
      "text/plain": [
       "{'metadata': {'resultset': {'offset': 1, 'count': 11, 'limit': 25}},\n",
       " 'results': [{'uid': 'gov.noaa.ncdc:C00861',\n",
       "   'mindate': '1750-02-01',\n",
       "   'maxdate': '2025-01-13',\n",
       "   'name': 'Daily Summaries',\n",
       "   'datacoverage': 1,\n",
       "   'id': 'GHCND'},\n",
       "  {'uid': 'gov.noaa.ncdc:C00946',\n",
       "   'mindate': '1750-02-01',\n",
       "   'maxdate': '2025-01-01',\n",
       "   'name': 'Global Summary of the Month',\n",
       "   'datacoverage': 1,\n",
       "   'id': 'GSOM'},\n",
       "  {'uid': 'gov.noaa.ncdc:C00947',\n",
       "   'mindate': '1763-01-01',\n",
       "   'maxdate': '2025-01-01',\n",
       "   'name': 'Global Summary of the Year',\n",
       "   'datacoverage': 1,\n",
       "   'id': 'GSOY'},\n",
       "  {'uid': 'gov.noaa.ncdc:C00345',\n",
       "   'mindate': '1991-06-05',\n",
       "   'maxdate': '2025-01-17',\n",
       "   'name': 'Weather Radar (Level II)',\n",
       "   'datacoverage': 0.95,\n",
       "   'id': 'NEXRAD2'},\n",
       "  {'uid': 'gov.noaa.ncdc:C00708',\n",
       "   'mindate': '1994-05-20',\n",
       "   'maxdate': '2025-01-07',\n",
       "   'name': 'Weather Radar (Level III)',\n",
       "   'datacoverage': 0.95,\n",
       "   'id': 'NEXRAD3'},\n",
       "  {'uid': 'gov.noaa.ncdc:C00821',\n",
       "   'mindate': '2010-01-01',\n",
       "   'maxdate': '2010-01-01',\n",
       "   'name': 'Normals Annual/Seasonal',\n",
       "   'datacoverage': 1,\n",
       "   'id': 'NORMAL_ANN'},\n",
       "  {'uid': 'gov.noaa.ncdc:C00823',\n",
       "   'mindate': '2010-01-01',\n",
       "   'maxdate': '2010-12-31',\n",
       "   'name': 'Normals Daily',\n",
       "   'datacoverage': 1,\n",
       "   'id': 'NORMAL_DLY'},\n",
       "  {'uid': 'gov.noaa.ncdc:C00824',\n",
       "   'mindate': '2010-01-01',\n",
       "   'maxdate': '2010-12-31',\n",
       "   'name': 'Normals Hourly',\n",
       "   'datacoverage': 1,\n",
       "   'id': 'NORMAL_HLY'},\n",
       "  {'uid': 'gov.noaa.ncdc:C00822',\n",
       "   'mindate': '2010-01-01',\n",
       "   'maxdate': '2010-12-01',\n",
       "   'name': 'Normals Monthly',\n",
       "   'datacoverage': 1,\n",
       "   'id': 'NORMAL_MLY'},\n",
       "  {'uid': 'gov.noaa.ncdc:C00505',\n",
       "   'mindate': '1970-05-12',\n",
       "   'maxdate': '2014-01-01',\n",
       "   'name': 'Precipitation 15 Minute',\n",
       "   'datacoverage': 0.25,\n",
       "   'id': 'PRECIP_15'},\n",
       "  {'uid': 'gov.noaa.ncdc:C00313',\n",
       "   'mindate': '1900-01-01',\n",
       "   'maxdate': '2014-01-01',\n",
       "   'name': 'Precipitation Hourly',\n",
       "   'datacoverage': 1,\n",
       "   'id': 'PRECIP_HLY'}]}"
      ]
     },
     "execution_count": 6,
     "metadata": {},
     "output_type": "execute_result"
    }
   ],
   "source": [
    "hello_noaa()\n"
   ]
  },
  {
   "cell_type": "code",
   "execution_count": null,
   "id": "8d6d662e-7ef8-4b0b-9b01-4ea1107b8efa",
   "metadata": {},
   "outputs": [],
   "source": [
    "print(hello_noaa())\n"
   ]
  },
  {
   "cell_type": "code",
   "execution_count": null,
   "id": "1cc8ae44-9840-48dd-9e53-8ad926dffa21",
   "metadata": {},
   "outputs": [],
   "source": [
    "print(hello_noaa())"
   ]
  },
  {
   "cell_type": "code",
   "execution_count": 11,
   "id": "e313f98e-9968-42a8-901d-5d691a907bd0",
   "metadata": {},
   "outputs": [
    {
     "data": {
      "text/plain": [
       "{'metadata': {'resultset': {'offset': 1, 'count': 11, 'limit': 25}},\n",
       " 'results': [{'uid': 'gov.noaa.ncdc:C00861',\n",
       "   'mindate': '1750-02-01',\n",
       "   'maxdate': '2025-01-13',\n",
       "   'name': 'Daily Summaries',\n",
       "   'datacoverage': 1,\n",
       "   'id': 'GHCND'},\n",
       "  {'uid': 'gov.noaa.ncdc:C00946',\n",
       "   'mindate': '1750-02-01',\n",
       "   'maxdate': '2025-01-01',\n",
       "   'name': 'Global Summary of the Month',\n",
       "   'datacoverage': 1,\n",
       "   'id': 'GSOM'},\n",
       "  {'uid': 'gov.noaa.ncdc:C00947',\n",
       "   'mindate': '1763-01-01',\n",
       "   'maxdate': '2025-01-01',\n",
       "   'name': 'Global Summary of the Year',\n",
       "   'datacoverage': 1,\n",
       "   'id': 'GSOY'},\n",
       "  {'uid': 'gov.noaa.ncdc:C00345',\n",
       "   'mindate': '1991-06-05',\n",
       "   'maxdate': '2025-01-17',\n",
       "   'name': 'Weather Radar (Level II)',\n",
       "   'datacoverage': 0.95,\n",
       "   'id': 'NEXRAD2'},\n",
       "  {'uid': 'gov.noaa.ncdc:C00708',\n",
       "   'mindate': '1994-05-20',\n",
       "   'maxdate': '2025-01-07',\n",
       "   'name': 'Weather Radar (Level III)',\n",
       "   'datacoverage': 0.95,\n",
       "   'id': 'NEXRAD3'},\n",
       "  {'uid': 'gov.noaa.ncdc:C00821',\n",
       "   'mindate': '2010-01-01',\n",
       "   'maxdate': '2010-01-01',\n",
       "   'name': 'Normals Annual/Seasonal',\n",
       "   'datacoverage': 1,\n",
       "   'id': 'NORMAL_ANN'},\n",
       "  {'uid': 'gov.noaa.ncdc:C00823',\n",
       "   'mindate': '2010-01-01',\n",
       "   'maxdate': '2010-12-31',\n",
       "   'name': 'Normals Daily',\n",
       "   'datacoverage': 1,\n",
       "   'id': 'NORMAL_DLY'},\n",
       "  {'uid': 'gov.noaa.ncdc:C00824',\n",
       "   'mindate': '2010-01-01',\n",
       "   'maxdate': '2010-12-31',\n",
       "   'name': 'Normals Hourly',\n",
       "   'datacoverage': 1,\n",
       "   'id': 'NORMAL_HLY'},\n",
       "  {'uid': 'gov.noaa.ncdc:C00822',\n",
       "   'mindate': '2010-01-01',\n",
       "   'maxdate': '2010-12-01',\n",
       "   'name': 'Normals Monthly',\n",
       "   'datacoverage': 1,\n",
       "   'id': 'NORMAL_MLY'},\n",
       "  {'uid': 'gov.noaa.ncdc:C00505',\n",
       "   'mindate': '1970-05-12',\n",
       "   'maxdate': '2014-01-01',\n",
       "   'name': 'Precipitation 15 Minute',\n",
       "   'datacoverage': 0.25,\n",
       "   'id': 'PRECIP_15'},\n",
       "  {'uid': 'gov.noaa.ncdc:C00313',\n",
       "   'mindate': '1900-01-01',\n",
       "   'maxdate': '2014-01-01',\n",
       "   'name': 'Precipitation Hourly',\n",
       "   'datacoverage': 1,\n",
       "   'id': 'PRECIP_HLY'}]}"
      ]
     },
     "execution_count": 11,
     "metadata": {},
     "output_type": "execute_result"
    }
   ],
   "source": [
    "hello_noaa()\n"
   ]
  },
  {
   "cell_type": "code",
   "execution_count": 12,
   "id": "e96293ae-2ddd-479d-ac77-f6e4a4fe5a5e",
   "metadata": {},
   "outputs": [],
   "source": []
  },
  {
   "cell_type": "code",
   "execution_count": 14,
   "id": "d028bc4d-1d28-4b12-abd0-2a1bb1854c3f",
   "metadata": {},
   "outputs": [
    {
     "ename": "NameError",
     "evalue": "name 'src' is not defined",
     "output_type": "error",
     "traceback": [
      "\u001b[0;31m---------------------------------------------------------------------------\u001b[0m",
      "\u001b[0;31mNameError\u001b[0m                                 Traceback (most recent call last)",
      "Cell \u001b[0;32mIn[14], line 1\u001b[0m\n\u001b[0;32m----> 1\u001b[0m importlib\u001b[38;5;241m.\u001b[39mreload(\u001b[43msrc\u001b[49m\u001b[38;5;241m.\u001b[39mdata_download)\n",
      "\u001b[0;31mNameError\u001b[0m: name 'src' is not defined"
     ]
    }
   ],
   "source": [
    "importlib.reload(src.data_download)"
   ]
  },
  {
   "cell_type": "code",
   "execution_count": 18,
   "id": "54375fc6-e942-4cb9-b257-1719210b505f",
   "metadata": {},
   "outputs": [
    {
     "name": "stdout",
     "output_type": "stream",
     "text": [
      "{'metadata': {'resultset': {'offset': 1, 'count': 11, 'limit': 25}}, 'results': [{'uid': 'gov.noaa.ncdc:C00861', 'mindate': '1750-02-01', 'maxdate': '2025-01-13', 'name': 'Daily Summaries', 'datacoverage': 1, 'id': 'GHCND'}, {'uid': 'gov.noaa.ncdc:C00946', 'mindate': '1750-02-01', 'maxdate': '2025-01-01', 'name': 'Global Summary of the Month', 'datacoverage': 1, 'id': 'GSOM'}, {'uid': 'gov.noaa.ncdc:C00947', 'mindate': '1763-01-01', 'maxdate': '2025-01-01', 'name': 'Global Summary of the Year', 'datacoverage': 1, 'id': 'GSOY'}, {'uid': 'gov.noaa.ncdc:C00345', 'mindate': '1991-06-05', 'maxdate': '2025-01-17', 'name': 'Weather Radar (Level II)', 'datacoverage': 0.95, 'id': 'NEXRAD2'}, {'uid': 'gov.noaa.ncdc:C00708', 'mindate': '1994-05-20', 'maxdate': '2025-01-07', 'name': 'Weather Radar (Level III)', 'datacoverage': 0.95, 'id': 'NEXRAD3'}, {'uid': 'gov.noaa.ncdc:C00821', 'mindate': '2010-01-01', 'maxdate': '2010-01-01', 'name': 'Normals Annual/Seasonal', 'datacoverage': 1, 'id': 'NORMAL_ANN'}, {'uid': 'gov.noaa.ncdc:C00823', 'mindate': '2010-01-01', 'maxdate': '2010-12-31', 'name': 'Normals Daily', 'datacoverage': 1, 'id': 'NORMAL_DLY'}, {'uid': 'gov.noaa.ncdc:C00824', 'mindate': '2010-01-01', 'maxdate': '2010-12-31', 'name': 'Normals Hourly', 'datacoverage': 1, 'id': 'NORMAL_HLY'}, {'uid': 'gov.noaa.ncdc:C00822', 'mindate': '2010-01-01', 'maxdate': '2010-12-01', 'name': 'Normals Monthly', 'datacoverage': 1, 'id': 'NORMAL_MLY'}, {'uid': 'gov.noaa.ncdc:C00505', 'mindate': '1970-05-12', 'maxdate': '2014-01-01', 'name': 'Precipitation 15 Minute', 'datacoverage': 0.25, 'id': 'PRECIP_15'}, {'uid': 'gov.noaa.ncdc:C00313', 'mindate': '1900-01-01', 'maxdate': '2014-01-01', 'name': 'Precipitation Hourly', 'datacoverage': 1, 'id': 'PRECIP_HLY'}]}\n"
     ]
    }
   ],
   "source": [
    "from src.data_download import hello_noaa\n",
    "\n",
    "# Call the function to test\n",
    "data = hello_noaa()\n",
    "print(data)  # This will print the metadata or any response from NOAA\n"
   ]
  },
  {
   "cell_type": "code",
   "execution_count": 19,
   "id": "605a104a-aa29-4682-a046-65ae244a9978",
   "metadata": {},
   "outputs": [],
   "source": [
    "from src.data_download import test_download"
   ]
  },
  {
   "cell_type": "code",
   "execution_count": 20,
   "id": "a1c9ef84-662f-4061-b142-3eabd28d9735",
   "metadata": {},
   "outputs": [
    {
     "name": "stdout",
     "output_type": "stream",
     "text": [
      "NOAA_API_TOKEN in script: WxygRFAipYVLPMjUNAEwFWsvavdjkDVb\n"
     ]
    },
    {
     "data": {
      "text/plain": [
       "'The data_download module is wworking correctly!'"
      ]
     },
     "execution_count": 20,
     "metadata": {},
     "output_type": "execute_result"
    }
   ],
   "source": [
    "test_download()"
   ]
  },
  {
   "cell_type": "code",
   "execution_count": 21,
   "id": "a3eb5a94-64b4-48dd-8f5c-3b4ea7c84897",
   "metadata": {},
   "outputs": [
    {
     "data": {
      "text/plain": [
       "{'metadata': {'resultset': {'offset': 1, 'count': 11, 'limit': 25}},\n",
       " 'results': [{'uid': 'gov.noaa.ncdc:C00861',\n",
       "   'mindate': '1750-02-01',\n",
       "   'maxdate': '2025-01-13',\n",
       "   'name': 'Daily Summaries',\n",
       "   'datacoverage': 1,\n",
       "   'id': 'GHCND'},\n",
       "  {'uid': 'gov.noaa.ncdc:C00946',\n",
       "   'mindate': '1750-02-01',\n",
       "   'maxdate': '2025-01-01',\n",
       "   'name': 'Global Summary of the Month',\n",
       "   'datacoverage': 1,\n",
       "   'id': 'GSOM'},\n",
       "  {'uid': 'gov.noaa.ncdc:C00947',\n",
       "   'mindate': '1763-01-01',\n",
       "   'maxdate': '2025-01-01',\n",
       "   'name': 'Global Summary of the Year',\n",
       "   'datacoverage': 1,\n",
       "   'id': 'GSOY'},\n",
       "  {'uid': 'gov.noaa.ncdc:C00345',\n",
       "   'mindate': '1991-06-05',\n",
       "   'maxdate': '2025-01-17',\n",
       "   'name': 'Weather Radar (Level II)',\n",
       "   'datacoverage': 0.95,\n",
       "   'id': 'NEXRAD2'},\n",
       "  {'uid': 'gov.noaa.ncdc:C00708',\n",
       "   'mindate': '1994-05-20',\n",
       "   'maxdate': '2025-01-07',\n",
       "   'name': 'Weather Radar (Level III)',\n",
       "   'datacoverage': 0.95,\n",
       "   'id': 'NEXRAD3'},\n",
       "  {'uid': 'gov.noaa.ncdc:C00821',\n",
       "   'mindate': '2010-01-01',\n",
       "   'maxdate': '2010-01-01',\n",
       "   'name': 'Normals Annual/Seasonal',\n",
       "   'datacoverage': 1,\n",
       "   'id': 'NORMAL_ANN'},\n",
       "  {'uid': 'gov.noaa.ncdc:C00823',\n",
       "   'mindate': '2010-01-01',\n",
       "   'maxdate': '2010-12-31',\n",
       "   'name': 'Normals Daily',\n",
       "   'datacoverage': 1,\n",
       "   'id': 'NORMAL_DLY'},\n",
       "  {'uid': 'gov.noaa.ncdc:C00824',\n",
       "   'mindate': '2010-01-01',\n",
       "   'maxdate': '2010-12-31',\n",
       "   'name': 'Normals Hourly',\n",
       "   'datacoverage': 1,\n",
       "   'id': 'NORMAL_HLY'},\n",
       "  {'uid': 'gov.noaa.ncdc:C00822',\n",
       "   'mindate': '2010-01-01',\n",
       "   'maxdate': '2010-12-01',\n",
       "   'name': 'Normals Monthly',\n",
       "   'datacoverage': 1,\n",
       "   'id': 'NORMAL_MLY'},\n",
       "  {'uid': 'gov.noaa.ncdc:C00505',\n",
       "   'mindate': '1970-05-12',\n",
       "   'maxdate': '2014-01-01',\n",
       "   'name': 'Precipitation 15 Minute',\n",
       "   'datacoverage': 0.25,\n",
       "   'id': 'PRECIP_15'},\n",
       "  {'uid': 'gov.noaa.ncdc:C00313',\n",
       "   'mindate': '1900-01-01',\n",
       "   'maxdate': '2014-01-01',\n",
       "   'name': 'Precipitation Hourly',\n",
       "   'datacoverage': 1,\n",
       "   'id': 'PRECIP_HLY'}]}"
      ]
     },
     "execution_count": 21,
     "metadata": {},
     "output_type": "execute_result"
    }
   ],
   "source": [
    "hello_noaa()"
   ]
  },
  {
   "cell_type": "code",
   "execution_count": 22,
   "id": "d922eb26-38e9-46d6-8e72-98a307edbe08",
   "metadata": {},
   "outputs": [],
   "source": [
    "from src.data_download import hello_noaa"
   ]
  },
  {
   "cell_type": "code",
   "execution_count": 23,
   "id": "265eb07b-fe5e-42e1-8e59-a1080b6f2846",
   "metadata": {},
   "outputs": [
    {
     "data": {
      "text/plain": [
       "{'metadata': {'resultset': {'offset': 1, 'count': 11, 'limit': 25}},\n",
       " 'results': [{'uid': 'gov.noaa.ncdc:C00861',\n",
       "   'mindate': '1750-02-01',\n",
       "   'maxdate': '2025-01-13',\n",
       "   'name': 'Daily Summaries',\n",
       "   'datacoverage': 1,\n",
       "   'id': 'GHCND'},\n",
       "  {'uid': 'gov.noaa.ncdc:C00946',\n",
       "   'mindate': '1750-02-01',\n",
       "   'maxdate': '2025-01-01',\n",
       "   'name': 'Global Summary of the Month',\n",
       "   'datacoverage': 1,\n",
       "   'id': 'GSOM'},\n",
       "  {'uid': 'gov.noaa.ncdc:C00947',\n",
       "   'mindate': '1763-01-01',\n",
       "   'maxdate': '2025-01-01',\n",
       "   'name': 'Global Summary of the Year',\n",
       "   'datacoverage': 1,\n",
       "   'id': 'GSOY'},\n",
       "  {'uid': 'gov.noaa.ncdc:C00345',\n",
       "   'mindate': '1991-06-05',\n",
       "   'maxdate': '2025-01-17',\n",
       "   'name': 'Weather Radar (Level II)',\n",
       "   'datacoverage': 0.95,\n",
       "   'id': 'NEXRAD2'},\n",
       "  {'uid': 'gov.noaa.ncdc:C00708',\n",
       "   'mindate': '1994-05-20',\n",
       "   'maxdate': '2025-01-07',\n",
       "   'name': 'Weather Radar (Level III)',\n",
       "   'datacoverage': 0.95,\n",
       "   'id': 'NEXRAD3'},\n",
       "  {'uid': 'gov.noaa.ncdc:C00821',\n",
       "   'mindate': '2010-01-01',\n",
       "   'maxdate': '2010-01-01',\n",
       "   'name': 'Normals Annual/Seasonal',\n",
       "   'datacoverage': 1,\n",
       "   'id': 'NORMAL_ANN'},\n",
       "  {'uid': 'gov.noaa.ncdc:C00823',\n",
       "   'mindate': '2010-01-01',\n",
       "   'maxdate': '2010-12-31',\n",
       "   'name': 'Normals Daily',\n",
       "   'datacoverage': 1,\n",
       "   'id': 'NORMAL_DLY'},\n",
       "  {'uid': 'gov.noaa.ncdc:C00824',\n",
       "   'mindate': '2010-01-01',\n",
       "   'maxdate': '2010-12-31',\n",
       "   'name': 'Normals Hourly',\n",
       "   'datacoverage': 1,\n",
       "   'id': 'NORMAL_HLY'},\n",
       "  {'uid': 'gov.noaa.ncdc:C00822',\n",
       "   'mindate': '2010-01-01',\n",
       "   'maxdate': '2010-12-01',\n",
       "   'name': 'Normals Monthly',\n",
       "   'datacoverage': 1,\n",
       "   'id': 'NORMAL_MLY'},\n",
       "  {'uid': 'gov.noaa.ncdc:C00505',\n",
       "   'mindate': '1970-05-12',\n",
       "   'maxdate': '2014-01-01',\n",
       "   'name': 'Precipitation 15 Minute',\n",
       "   'datacoverage': 0.25,\n",
       "   'id': 'PRECIP_15'},\n",
       "  {'uid': 'gov.noaa.ncdc:C00313',\n",
       "   'mindate': '1900-01-01',\n",
       "   'maxdate': '2014-01-01',\n",
       "   'name': 'Precipitation Hourly',\n",
       "   'datacoverage': 1,\n",
       "   'id': 'PRECIP_HLY'}]}"
      ]
     },
     "execution_count": 23,
     "metadata": {},
     "output_type": "execute_result"
    }
   ],
   "source": [
    "hello_noaa()\n"
   ]
  },
  {
   "cell_type": "code",
   "execution_count": 24,
   "id": "49290e23-af45-4df9-9c8b-7c9da0e78220",
   "metadata": {},
   "outputs": [],
   "source": [
    "data = hello_noaa()\n"
   ]
  },
  {
   "cell_type": "code",
   "execution_count": 25,
   "id": "852ad783-bc43-486b-8635-058f5f8142e0",
   "metadata": {},
   "outputs": [
    {
     "name": "stdout",
     "output_type": "stream",
     "text": [
      "{'metadata': {'resultset': {'offset': 1, 'count': 11, 'limit': 25}}, 'results': [{'uid': 'gov.noaa.ncdc:C00861', 'mindate': '1750-02-01', 'maxdate': '2025-01-13', 'name': 'Daily Summaries', 'datacoverage': 1, 'id': 'GHCND'}, {'uid': 'gov.noaa.ncdc:C00946', 'mindate': '1750-02-01', 'maxdate': '2025-01-01', 'name': 'Global Summary of the Month', 'datacoverage': 1, 'id': 'GSOM'}, {'uid': 'gov.noaa.ncdc:C00947', 'mindate': '1763-01-01', 'maxdate': '2025-01-01', 'name': 'Global Summary of the Year', 'datacoverage': 1, 'id': 'GSOY'}, {'uid': 'gov.noaa.ncdc:C00345', 'mindate': '1991-06-05', 'maxdate': '2025-01-17', 'name': 'Weather Radar (Level II)', 'datacoverage': 0.95, 'id': 'NEXRAD2'}, {'uid': 'gov.noaa.ncdc:C00708', 'mindate': '1994-05-20', 'maxdate': '2025-01-07', 'name': 'Weather Radar (Level III)', 'datacoverage': 0.95, 'id': 'NEXRAD3'}, {'uid': 'gov.noaa.ncdc:C00821', 'mindate': '2010-01-01', 'maxdate': '2010-01-01', 'name': 'Normals Annual/Seasonal', 'datacoverage': 1, 'id': 'NORMAL_ANN'}, {'uid': 'gov.noaa.ncdc:C00823', 'mindate': '2010-01-01', 'maxdate': '2010-12-31', 'name': 'Normals Daily', 'datacoverage': 1, 'id': 'NORMAL_DLY'}, {'uid': 'gov.noaa.ncdc:C00824', 'mindate': '2010-01-01', 'maxdate': '2010-12-31', 'name': 'Normals Hourly', 'datacoverage': 1, 'id': 'NORMAL_HLY'}, {'uid': 'gov.noaa.ncdc:C00822', 'mindate': '2010-01-01', 'maxdate': '2010-12-01', 'name': 'Normals Monthly', 'datacoverage': 1, 'id': 'NORMAL_MLY'}, {'uid': 'gov.noaa.ncdc:C00505', 'mindate': '1970-05-12', 'maxdate': '2014-01-01', 'name': 'Precipitation 15 Minute', 'datacoverage': 0.25, 'id': 'PRECIP_15'}, {'uid': 'gov.noaa.ncdc:C00313', 'mindate': '1900-01-01', 'maxdate': '2014-01-01', 'name': 'Precipitation Hourly', 'datacoverage': 1, 'id': 'PRECIP_HLY'}]}\n"
     ]
    }
   ],
   "source": [
    "print(data)\n"
   ]
  },
  {
   "cell_type": "code",
   "execution_count": 1,
   "id": "0def37fe-5670-4823-9793-9d85d7999280",
   "metadata": {},
   "outputs": [
    {
     "ename": "NameError",
     "evalue": "name 'data_download' is not defined",
     "output_type": "error",
     "traceback": [
      "\u001b[0;31m---------------------------------------------------------------------------\u001b[0m",
      "\u001b[0;31mNameError\u001b[0m                                 Traceback (most recent call last)",
      "Cell \u001b[0;32mIn[1], line 3\u001b[0m\n\u001b[1;32m      1\u001b[0m \u001b[38;5;28;01mimport\u001b[39;00m\u001b[38;5;250m \u001b[39m\u001b[38;5;21;01mimportlib\u001b[39;00m\n\u001b[1;32m      2\u001b[0m \u001b[38;5;28;01mfrom\u001b[39;00m\u001b[38;5;250m \u001b[39m\u001b[38;5;21;01msrc\u001b[39;00m\u001b[38;5;21;01m.\u001b[39;00m\u001b[38;5;21;01mdata_download\u001b[39;00m\u001b[38;5;250m \u001b[39m\u001b[38;5;28;01mimport\u001b[39;00m hello_noaa\n\u001b[0;32m----> 3\u001b[0m importlib\u001b[38;5;241m.\u001b[39mreload(\u001b[43mdata_download\u001b[49m)  \u001b[38;5;66;03m# Reloads the module if it’s cached\u001b[39;00m\n",
      "\u001b[0;31mNameError\u001b[0m: name 'data_download' is not defined"
     ]
    }
   ],
   "source": [
    "import importlib\n",
    "from src.data_download import hello_noaa\n",
    "importlib.reload(data_download)  # Reloads the module if it’s cached\n"
   ]
  },
  {
   "cell_type": "code",
   "execution_count": 1,
   "id": "3c1b489c-151e-4101-ba41-ba198f442b2a",
   "metadata": {},
   "outputs": [],
   "source": [
    "import src.data_download as data_download\n"
   ]
  },
  {
   "cell_type": "code",
   "execution_count": 5,
   "id": "c631f586-40b1-4c61-a372-589fdb550611",
   "metadata": {},
   "outputs": [
    {
     "data": {
      "text/plain": [
       "<module 'src.data_download' from '/Users/jimruppert/Projects/ClimateChroma/src/data_download.py'>"
      ]
     },
     "execution_count": 5,
     "metadata": {},
     "output_type": "execute_result"
    }
   ],
   "source": [
    "import importlib\n",
    "importlib.reload(data_download)\n"
   ]
  },
  {
   "cell_type": "code",
   "execution_count": 6,
   "id": "b1309c0a-d475-44be-942e-bf3394dfe4ea",
   "metadata": {},
   "outputs": [
    {
     "name": "stdout",
     "output_type": "stream",
     "text": [
      "foo\n"
     ]
    }
   ],
   "source": [
    "print(data_download.hello_noaa())\n"
   ]
  },
  {
   "cell_type": "code",
   "execution_count": null,
   "id": "63a0e32d-60cc-4d78-88d1-bc04205b3e9d",
   "metadata": {},
   "outputs": [],
   "source": []
  }
 ],
 "metadata": {
  "kernelspec": {
   "display_name": "Python 3 (ipykernel)",
   "language": "python",
   "name": "python3"
  },
  "language_info": {
   "codemirror_mode": {
    "name": "ipython",
    "version": 3
   },
   "file_extension": ".py",
   "mimetype": "text/x-python",
   "name": "python",
   "nbconvert_exporter": "python",
   "pygments_lexer": "ipython3",
   "version": "3.13.0"
  }
 },
 "nbformat": 4,
 "nbformat_minor": 5
}
